{
 "cells": [
  {
   "cell_type": "markdown",
   "id": "c6a244e2-3555-4f41-8428-24debd5621bb",
   "metadata": {},
   "source": [
    "<h1>ANÁLISIS EXPLORATORIO DE DATOS EN PYTHON</h1> \n",
    "(2860098)\n",
    "\n",
    "P211710112 CO2860098 R73 C9226 \n",
    "\n",
    "INSTRUCTOR: LUIS ALBERTO GALICIA GUERRERO\n",
    "\n",
    "Aprendiz: Cesar Ricardo Moreno Bedoya\n",
    "Nov 2023"
   ]
  },
  {
   "cell_type": "code",
   "execution_count": 1,
   "id": "6f432190-bc60-46c6-90df-6521d685f038",
   "metadata": {
    "tags": []
   },
   "outputs": [],
   "source": [
    "import pandas as pd\n",
    "import matplotlib as ptl\n",
    "import seaborn as sns\n",
    "import numpy as np"
   ]
  },
  {
   "cell_type": "code",
   "execution_count": 2,
   "id": "e1d650a1-d126-43bc-8b24-1328c01d2fbb",
   "metadata": {
    "tags": []
   },
   "outputs": [],
   "source": [
    "df=pd.read_csv(\"Anexos/Data_Caso_Propuesto.csv\")"
   ]
  },
  {
   "cell_type": "code",
   "execution_count": 3,
   "id": "41c1580b-c6ba-497b-8859-698d88cb922d",
   "metadata": {
    "tags": []
   },
   "outputs": [
    {
     "data": {
      "text/html": [
       "<div>\n",
       "<style scoped>\n",
       "    .dataframe tbody tr th:only-of-type {\n",
       "        vertical-align: middle;\n",
       "    }\n",
       "\n",
       "    .dataframe tbody tr th {\n",
       "        vertical-align: top;\n",
       "    }\n",
       "\n",
       "    .dataframe thead th {\n",
       "        text-align: right;\n",
       "    }\n",
       "</style>\n",
       "<table border=\"1\" class=\"dataframe\">\n",
       "  <thead>\n",
       "    <tr style=\"text-align: right;\">\n",
       "      <th></th>\n",
       "      <th>Codigo</th>\n",
       "      <th>Area Terreno</th>\n",
       "      <th>Area Construida</th>\n",
       "      <th>Precio</th>\n",
       "    </tr>\n",
       "  </thead>\n",
       "  <tbody>\n",
       "    <tr>\n",
       "      <th>count</th>\n",
       "      <td>463.000000</td>\n",
       "      <td>4.630000e+02</td>\n",
       "      <td>463.000000</td>\n",
       "      <td>4.630000e+02</td>\n",
       "    </tr>\n",
       "    <tr>\n",
       "      <th>mean</th>\n",
       "      <td>18003.151188</td>\n",
       "      <td>1.515204e+04</td>\n",
       "      <td>87.517279</td>\n",
       "      <td>6.672032e+08</td>\n",
       "    </tr>\n",
       "    <tr>\n",
       "      <th>std</th>\n",
       "      <td>1992.191499</td>\n",
       "      <td>1.827101e+05</td>\n",
       "      <td>1137.469077</td>\n",
       "      <td>3.272992e+09</td>\n",
       "    </tr>\n",
       "    <tr>\n",
       "      <th>min</th>\n",
       "      <td>2575.000000</td>\n",
       "      <td>0.000000e+00</td>\n",
       "      <td>0.000000</td>\n",
       "      <td>4.650000e+06</td>\n",
       "    </tr>\n",
       "    <tr>\n",
       "      <th>25%</th>\n",
       "      <td>18184.500000</td>\n",
       "      <td>0.000000e+00</td>\n",
       "      <td>0.000000</td>\n",
       "      <td>1.230500e+07</td>\n",
       "    </tr>\n",
       "    <tr>\n",
       "      <th>50%</th>\n",
       "      <td>18332.000000</td>\n",
       "      <td>0.000000e+00</td>\n",
       "      <td>0.000000</td>\n",
       "      <td>1.587000e+07</td>\n",
       "    </tr>\n",
       "    <tr>\n",
       "      <th>75%</th>\n",
       "      <td>18539.500000</td>\n",
       "      <td>0.000000e+00</td>\n",
       "      <td>0.000000</td>\n",
       "      <td>1.379955e+08</td>\n",
       "    </tr>\n",
       "    <tr>\n",
       "      <th>max</th>\n",
       "      <td>19344.000000</td>\n",
       "      <td>3.217197e+06</td>\n",
       "      <td>22724.000000</td>\n",
       "      <td>4.523379e+10</td>\n",
       "    </tr>\n",
       "  </tbody>\n",
       "</table>\n",
       "</div>"
      ],
      "text/plain": [
       "             Codigo  Area Terreno  Area Construida        Precio\n",
       "count    463.000000  4.630000e+02       463.000000  4.630000e+02\n",
       "mean   18003.151188  1.515204e+04        87.517279  6.672032e+08\n",
       "std     1992.191499  1.827101e+05      1137.469077  3.272992e+09\n",
       "min     2575.000000  0.000000e+00         0.000000  4.650000e+06\n",
       "25%    18184.500000  0.000000e+00         0.000000  1.230500e+07\n",
       "50%    18332.000000  0.000000e+00         0.000000  1.587000e+07\n",
       "75%    18539.500000  0.000000e+00         0.000000  1.379955e+08\n",
       "max    19344.000000  3.217197e+06     22724.000000  4.523379e+10"
      ]
     },
     "execution_count": 3,
     "metadata": {},
     "output_type": "execute_result"
    }
   ],
   "source": [
    "df.describe()"
   ]
  },
  {
   "cell_type": "code",
   "execution_count": 4,
   "id": "f9c89742-3b5b-4376-8a80-e2dd060dd2b1",
   "metadata": {
    "tags": []
   },
   "outputs": [
    {
     "name": "stdout",
     "output_type": "stream",
     "text": [
      "<class 'pandas.core.frame.DataFrame'>\n",
      "RangeIndex: 463 entries, 0 to 462\n",
      "Data columns (total 12 columns):\n",
      " #   Column                  Non-Null Count  Dtype  \n",
      "---  ------                  --------------  -----  \n",
      " 0   Codigo                  463 non-null    int64  \n",
      " 1   Ciudad                  463 non-null    object \n",
      " 2   Departamento            463 non-null    object \n",
      " 3   Barrio                  40 non-null     object \n",
      " 4   Direccion               463 non-null    object \n",
      " 5   Area Terreno            463 non-null    float64\n",
      " 6   Area Construida         463 non-null    float64\n",
      " 7   Detalle Disponibilidad  463 non-null    object \n",
      " 8   Estrato                 463 non-null    object \n",
      " 9   Precio                  463 non-null    float64\n",
      " 10  Tipo de Inmueble        463 non-null    object \n",
      " 11  Datos Adicionales       118 non-null    object \n",
      "dtypes: float64(3), int64(1), object(8)\n",
      "memory usage: 43.5+ KB\n"
     ]
    }
   ],
   "source": [
    "df.info()"
   ]
  },
  {
   "cell_type": "code",
   "execution_count": 5,
   "id": "dcde433a-daf6-4518-a115-100fe2930dc1",
   "metadata": {
    "tags": []
   },
   "outputs": [],
   "source": [
    "df=df.drop_duplicates()"
   ]
  },
  {
   "cell_type": "code",
   "execution_count": 6,
   "id": "587f80e5-2959-4c2c-a977-80fc21f8bee3",
   "metadata": {
    "tags": []
   },
   "outputs": [
    {
     "data": {
      "text/plain": [
       "array([[<Axes: title={'center': 'Codigo'}>,\n",
       "        <Axes: title={'center': 'Area Terreno'}>],\n",
       "       [<Axes: title={'center': 'Area Construida'}>,\n",
       "        <Axes: title={'center': 'Precio'}>]], dtype=object)"
      ]
     },
     "execution_count": 6,
     "metadata": {},
     "output_type": "execute_result"
    },
    {
     "data": {
      "image/png": "[encoded data removed]",
      "text/plain": [
       "<Figure size 2000x1000 with 4 Axes>"
      ]
     },
     "metadata": {},
     "output_type": "display_data"
    }
   ],
   "source": [
    "df.hist(bins=20,figsize=(20,10))"
   ]
  },
  {
   "cell_type": "code",
   "execution_count": 12,
   "id": "547f4f4a-23cd-48fa-ac84-85ae8c32a2f2",
   "metadata": {
    "tags": []
   },
   "outputs": [],
   "source": [
    "inmuebles = df.drop(columns = ['Barrio', 'Area Terreno'])"
   ]
  },
  {
   "cell_type": "code",
   "execution_count": 18,
   "id": "bc13b35e-c8d2-4ff2-9858-2515a9e2a637",
   "metadata": {},
   "outputs": [
    {
     "data": {
      "text/html": [
       "<div>\n",
       "<style scoped>\n",
       "    .dataframe tbody tr th:only-of-type {\n",
       "        vertical-align: middle;\n",
       "    }\n",
       "\n",
       "    .dataframe tbody tr th {\n",
       "        vertical-align: top;\n",
       "    }\n",
       "\n",
       "    .dataframe thead th {\n",
       "        text-align: right;\n",
       "    }\n",
       "</style>\n",
       "<table border=\"1\" class=\"dataframe\">\n",
       "  <thead>\n",
       "    <tr style=\"text-align: right;\">\n",
       "      <th></th>\n",
       "      <th>Codigo</th>\n",
       "      <th>Ciudad</th>\n",
       "      <th>Departamento</th>\n",
       "      <th>Direccion</th>\n",
       "      <th>Area Construida</th>\n",
       "      <th>Detalle Disponibilidad</th>\n",
       "      <th>Estrato</th>\n",
       "      <th>Precio</th>\n",
       "      <th>Tipo de Inmueble</th>\n",
       "      <th>Datos Adicionales</th>\n",
       "    </tr>\n",
       "  </thead>\n",
       "  <tbody>\n",
       "    <tr>\n",
       "      <th>455</th>\n",
       "      <td>17009</td>\n",
       "      <td>VALENCIA</td>\n",
       "      <td>CÓRDOBA</td>\n",
       "      <td>CALLE PRINCIPAL - CORREGIMIENTO GUADUAL</td>\n",
       "      <td>0.0</td>\n",
       "      <td>COMERCIALIZABLE</td>\n",
       "      <td>RURAL</td>\n",
       "      <td>4650000.0</td>\n",
       "      <td>LOTE AGRICOLA</td>\n",
       "      <td>LOTE RURAL DE USO AGRICOLA LOCALIZADO DEN LA V...</td>\n",
       "    </tr>\n",
       "  </tbody>\n",
       "</table>\n",
       "</div>"
      ],
      "text/plain": [
       "     Codigo    Ciudad Departamento                                Direccion  \\\n",
       "455   17009  VALENCIA      CÓRDOBA  CALLE PRINCIPAL - CORREGIMIENTO GUADUAL   \n",
       "\n",
       "     Area Construida Detalle Disponibilidad Estrato     Precio  \\\n",
       "455              0.0        COMERCIALIZABLE   RURAL  4650000.0   \n",
       "\n",
       "    Tipo de Inmueble                                  Datos Adicionales  \n",
       "455    LOTE AGRICOLA  LOTE RURAL DE USO AGRICOLA LOCALIZADO DEN LA V...  "
      ]
     },
     "execution_count": 18,
     "metadata": {},
     "output_type": "execute_result"
    }
   ],
   "source": [
    "precio = inmuebles.sort_values('Precio')\n",
    "precio.head(1)"
   ]
  },
  {
   "cell_type": "code",
   "execution_count": 19,
   "id": "ec734c3a-b534-445c-bbce-7e6eb245d25b",
   "metadata": {
    "tags": []
   },
   "outputs": [
    {
     "data": {
      "text/html": [
       "<div>\n",
       "<style scoped>\n",
       "    .dataframe tbody tr th:only-of-type {\n",
       "        vertical-align: middle;\n",
       "    }\n",
       "\n",
       "    .dataframe tbody tr th {\n",
       "        vertical-align: top;\n",
       "    }\n",
       "\n",
       "    .dataframe thead th {\n",
       "        text-align: right;\n",
       "    }\n",
       "</style>\n",
       "<table border=\"1\" class=\"dataframe\">\n",
       "  <thead>\n",
       "    <tr style=\"text-align: right;\">\n",
       "      <th></th>\n",
       "      <th>Codigo</th>\n",
       "      <th>Ciudad</th>\n",
       "      <th>Departamento</th>\n",
       "      <th>Direccion</th>\n",
       "      <th>Area Construida</th>\n",
       "      <th>Detalle Disponibilidad</th>\n",
       "      <th>Estrato</th>\n",
       "      <th>Precio</th>\n",
       "      <th>Tipo de Inmueble</th>\n",
       "      <th>Datos Adicionales</th>\n",
       "    </tr>\n",
       "  </thead>\n",
       "  <tbody>\n",
       "    <tr>\n",
       "      <th>4</th>\n",
       "      <td>11409</td>\n",
       "      <td>BUGA</td>\n",
       "      <td>VALLE DEL CAUCA</td>\n",
       "      <td>LT A1-A24 B1-B79 C1-C51 D1-D9 STA ROSA LT1-46 ...</td>\n",
       "      <td>22724.0</td>\n",
       "      <td>COMERCIALIZABLE FIDUCIA</td>\n",
       "      <td>RURAL</td>\n",
       "      <td>4.523379e+10</td>\n",
       "      <td>LOTE MIXTO</td>\n",
       "      <td>NaN</td>\n",
       "    </tr>\n",
       "  </tbody>\n",
       "</table>\n",
       "</div>"
      ],
      "text/plain": [
       "   Codigo Ciudad     Departamento  \\\n",
       "4   11409   BUGA  VALLE DEL CAUCA   \n",
       "\n",
       "                                           Direccion  Area Construida  \\\n",
       "4  LT A1-A24 B1-B79 C1-C51 D1-D9 STA ROSA LT1-46 ...          22724.0   \n",
       "\n",
       "    Detalle Disponibilidad Estrato        Precio Tipo de Inmueble  \\\n",
       "4  COMERCIALIZABLE FIDUCIA   RURAL  4.523379e+10       LOTE MIXTO   \n",
       "\n",
       "  Datos Adicionales  \n",
       "4               NaN  "
      ]
     },
     "execution_count": 19,
     "metadata": {},
     "output_type": "execute_result"
    }
   ],
   "source": [
    "precio = inmuebles.sort_values('Precio', ascending=False)\n",
    "precio.head(1)"
   ]
  },
  {
   "cell_type": "code",
   "execution_count": null,
   "id": "adfab0b6-495e-4722-8fb4-48a675fbc350",
   "metadata": {},
   "outputs": [],
   "source": []
  }
 ],
 "metadata": {
  "kernelspec": {
   "display_name": "Python 3 (ipykernel)",
   "language": "python",
   "name": "python3"
  },
  "language_info": {
   "codemirror_mode": {
    "name": "ipython",
    "version": 3
   },
   "file_extension": ".py",
   "mimetype": "text/x-python",
   "name": "python",
   "nbconvert_exporter": "python",
   "pygments_lexer": "ipython3",
   "version": "3.11.5"
  }
 },
 "nbformat": 4,
 "nbformat_minor": 5
}
